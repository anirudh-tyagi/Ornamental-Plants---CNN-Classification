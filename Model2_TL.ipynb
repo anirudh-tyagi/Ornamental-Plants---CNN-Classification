{
 "cells": [
  {
   "cell_type": "markdown",
   "metadata": {},
   "source": [
    "### EfficientNetV2B0"
   ]
  },
  {
   "cell_type": "markdown",
   "metadata": {},
   "source": [
    "### Name - Anirudh Tyagi\n",
    "### School - School Of Computing and Data Science\n",
    "### E-mail - anirudh.t-26@scds.saiuniversity.edu.in"
   ]
  },
  {
   "cell_type": "markdown",
   "metadata": {},
   "source": [
    "- #### Total number of images: 959\n",
    "- #### Number of images per class:\n",
    "    - Damask Rose images: 200\n",
    "    - Rain Lily images: 199\n",
    "    - Echeveria Flower images: 200\n",
    "    - Mirabilis Jalapa images: 200\n",
    "    - Zinnia Elegans images: 160\n",
    "- #### Total number of images used for training and testing:\n",
    "    - Training : 719\n",
    "    - Testing : 240"
   ]
  },
  {
   "cell_type": "code",
   "execution_count": 1,
   "metadata": {},
   "outputs": [
    {
     "name": "stderr",
     "output_type": "stream",
     "text": [
      "/Users/anirudhtyagi/Projects/DL_PROJECT/dl_project/lib/python3.9/site-packages/urllib3/__init__.py:35: NotOpenSSLWarning: urllib3 v2 only supports OpenSSL 1.1.1+, currently the 'ssl' module is compiled with 'LibreSSL 2.8.3'. See: https://github.com/urllib3/urllib3/issues/3020\n",
      "  warnings.warn(\n"
     ]
    },
    {
     "name": "stdout",
     "output_type": "stream",
     "text": [
      "2.16.2\n"
     ]
    }
   ],
   "source": [
    "import tensorflow as tf\n",
    "print(tf.__version__)\n",
    "from tensorflow import keras\n",
    "tf.random.set_seed(42)\n",
    "import numpy as np\n",
    "np.random.seed(42)\n",
    "import matplotlib.pyplot as plt\n",
    "%matplotlib inline\n",
    "import glob\n",
    "import PIL\n",
    "from PIL import Image"
   ]
  },
  {
   "cell_type": "code",
   "execution_count": 2,
   "metadata": {},
   "outputs": [],
   "source": [
    "from numpy import load\n",
    "X_train_std = load('/Users/anirudhtyagi/Projects/DL_PROJECT/X_train_std.npy')\n",
    "X_test_std = load('/Users/anirudhtyagi/Projects/DL_PROJECT/X_test_std.npy')\n",
    "y_train = load('/Users/anirudhtyagi/Projects/DL_PROJECT/y_train.npy')\n",
    "y_test = load('/Users/anirudhtyagi/Projects/DL_PROJECT/y_test.npy')"
   ]
  },
  {
   "cell_type": "code",
   "execution_count": 3,
   "metadata": {},
   "outputs": [
    {
     "name": "stderr",
     "output_type": "stream",
     "text": [
      "2025-01-09 02:35:49.526874: I metal_plugin/src/device/metal_device.cc:1154] Metal device set to: Apple M1\n",
      "2025-01-09 02:35:49.526931: I metal_plugin/src/device/metal_device.cc:296] systemMemory: 8.00 GB\n",
      "2025-01-09 02:35:49.526952: I metal_plugin/src/device/metal_device.cc:313] maxCacheSize: 2.67 GB\n",
      "2025-01-09 02:35:49.527259: I tensorflow/core/common_runtime/pluggable_device/pluggable_device_factory.cc:305] Could not identify NUMA node of platform GPU ID 0, defaulting to 0. Your kernel may not have been built with NUMA support.\n",
      "2025-01-09 02:35:49.527286: I tensorflow/core/common_runtime/pluggable_device/pluggable_device_factory.cc:271] Created TensorFlow device (/job:localhost/replica:0/task:0/device:GPU:0 with 0 MB memory) -> physical PluggableDevice (device: 0, name: METAL, pci bus id: <undefined>)\n"
     ]
    }
   ],
   "source": [
    "base_model = keras.applications.EfficientNetV2B0(\n",
    "                include_top=False,\n",
    "                weights=\"imagenet\"\n",
    ")\n",
    "\n",
    "# Freeze the weights - will not be updated during backpropagation\n",
    "for layer in base_model.layers:\n",
    "  layer.trainable = False\n",
    "\n",
    "# Adding classifier\n",
    "global_pool = keras.layers.GlobalAveragePooling2D()(base_model.output)\n",
    "\n",
    "x = keras.layers.BatchNormalization()(global_pool)\n",
    "x = keras.layers.Dropout(0.35)(x)\n",
    "\n",
    "output_ = keras.layers.Dense(units=5, activation='softmax')(x)\n",
    "\n",
    "model_TL = keras.models.Model(inputs=[base_model.input], outputs=[output_])"
   ]
  },
  {
   "cell_type": "code",
   "execution_count": 4,
   "metadata": {},
   "outputs": [
    {
     "name": "stdout",
     "output_type": "stream",
     "text": [
      "Epoch 1/10\n"
     ]
    },
    {
     "name": "stderr",
     "output_type": "stream",
     "text": [
      "/Users/anirudhtyagi/Projects/DL_PROJECT/dl_project/lib/python3.9/site-packages/keras/src/models/functional.py:237: UserWarning: The structure of `inputs` doesn't match the expected structure.\n",
      "Expected: ['keras_tensor']\n",
      "Received: inputs=Tensor(shape=(None, 299, 299, 3))\n",
      "  warnings.warn(msg)\n",
      "2025-01-09 02:36:02.379903: I tensorflow/core/grappler/optimizers/custom_graph_optimizer_registry.cc:117] Plugin optimizer for device_type GPU is enabled.\n"
     ]
    },
    {
     "name": "stdout",
     "output_type": "stream",
     "text": [
      "\u001b[1m41/41\u001b[0m \u001b[32m━━━━━━━━━━━━━━━━━━━━\u001b[0m\u001b[37m\u001b[0m \u001b[1m31s\u001b[0m 507ms/step - accuracy: 0.3550 - loss: 1.6709 - val_accuracy: 0.3889 - val_loss: 1.4317\n",
      "Epoch 2/10\n",
      "\u001b[1m41/41\u001b[0m \u001b[32m━━━━━━━━━━━━━━━━━━━━\u001b[0m\u001b[37m\u001b[0m \u001b[1m13s\u001b[0m 320ms/step - accuracy: 0.5682 - loss: 1.1377 - val_accuracy: 0.3333 - val_loss: 1.3677\n",
      "Epoch 3/10\n",
      "\u001b[1m41/41\u001b[0m \u001b[32m━━━━━━━━━━━━━━━━━━━━\u001b[0m\u001b[37m\u001b[0m \u001b[1m15s\u001b[0m 356ms/step - accuracy: 0.6294 - loss: 0.9470 - val_accuracy: 0.4028 - val_loss: 1.2837\n",
      "Epoch 4/10\n",
      "\u001b[1m41/41\u001b[0m \u001b[32m━━━━━━━━━━━━━━━━━━━━\u001b[0m\u001b[37m\u001b[0m \u001b[1m12s\u001b[0m 298ms/step - accuracy: 0.6698 - loss: 0.9147 - val_accuracy: 0.4444 - val_loss: 1.1942\n",
      "Epoch 5/10\n",
      "\u001b[1m41/41\u001b[0m \u001b[32m━━━━━━━━━━━━━━━━━━━━\u001b[0m\u001b[37m\u001b[0m \u001b[1m13s\u001b[0m 306ms/step - accuracy: 0.6754 - loss: 0.8592 - val_accuracy: 0.4861 - val_loss: 1.1205\n",
      "Epoch 6/10\n",
      "\u001b[1m41/41\u001b[0m \u001b[32m━━━━━━━━━━━━━━━━━━━━\u001b[0m\u001b[37m\u001b[0m \u001b[1m13s\u001b[0m 318ms/step - accuracy: 0.6863 - loss: 0.7829 - val_accuracy: 0.6111 - val_loss: 1.0257\n",
      "Epoch 7/10\n",
      "\u001b[1m41/41\u001b[0m \u001b[32m━━━━━━━━━━━━━━━━━━━━\u001b[0m\u001b[37m\u001b[0m \u001b[1m13s\u001b[0m 310ms/step - accuracy: 0.7003 - loss: 0.7653 - val_accuracy: 0.6806 - val_loss: 0.9451\n",
      "Epoch 8/10\n",
      "\u001b[1m41/41\u001b[0m \u001b[32m━━━━━━━━━━━━━━━━━━━━\u001b[0m\u001b[37m\u001b[0m \u001b[1m13s\u001b[0m 315ms/step - accuracy: 0.7232 - loss: 0.7025 - val_accuracy: 0.6944 - val_loss: 0.8546\n",
      "Epoch 9/10\n",
      "\u001b[1m41/41\u001b[0m \u001b[32m━━━━━━━━━━━━━━━━━━━━\u001b[0m\u001b[37m\u001b[0m \u001b[1m13s\u001b[0m 312ms/step - accuracy: 0.7491 - loss: 0.7130 - val_accuracy: 0.8333 - val_loss: 0.7617\n",
      "Epoch 10/10\n",
      "\u001b[1m41/41\u001b[0m \u001b[32m━━━━━━━━━━━━━━━━━━━━\u001b[0m\u001b[37m\u001b[0m \u001b[1m12s\u001b[0m 298ms/step - accuracy: 0.7165 - loss: 0.6997 - val_accuracy: 0.8750 - val_loss: 0.6672\n"
     ]
    }
   ],
   "source": [
    "from sklearn.preprocessing import LabelEncoder\n",
    "model_TL.compile(loss='sparse_categorical_crossentropy',\n",
    "                 optimizer='adam',\n",
    "                 metrics=['accuracy'])\n",
    "\n",
    "callbacks1_TL = [\n",
    "             keras.callbacks.ModelCheckpoint(\"bestTL2.weights.h5\",\n",
    "                                             monitor='val_accuracy',\n",
    "                                             save_weights_only=True,\n",
    "                                             save_best_only=True)]\n",
    "\n",
    "label_encoder = LabelEncoder()\n",
    "y_train_encoded = label_encoder.fit_transform(y_train)\n",
    "history1_TL = model_TL.fit(x = X_train_std, y = y_train, epochs=10,\n",
    "                          validation_split=0.1, batch_size=16, callbacks=callbacks1_TL)"
   ]
  },
  {
   "cell_type": "code",
   "execution_count": 5,
   "metadata": {},
   "outputs": [
    {
     "data": {
      "image/png": "[encoded data removed]",
      "text/plain": [
       "<Figure size 640x480 with 1 Axes>"
      ]
     },
     "metadata": {},
     "output_type": "display_data"
    }
   ],
   "source": [
    "keys = ['accuracy', 'val_accuracy']\n",
    "progress = {k:v for k,v in history1_TL.history.items() if k in keys}\n",
    "\n",
    "import pandas as pd\n",
    "pd.DataFrame(progress).plot()\n",
    "\n",
    "plt.xlabel(\"epochs\")\n",
    "plt.ylabel(\"accuracy\")\n",
    "\n",
    "plt.grid(True)\n",
    "plt.show()"
   ]
  },
  {
   "cell_type": "code",
   "execution_count": 6,
   "metadata": {},
   "outputs": [],
   "source": [
    "model_TL.load_weights(\"bestTL2.weights.h5\")"
   ]
  },
  {
   "cell_type": "code",
   "execution_count": 7,
   "metadata": {},
   "outputs": [],
   "source": [
    "model_TL.save(\"/Users/anirudhtyagi/Projects/DL_PROJECT/Model2_TL.keras\")"
   ]
  }
 ],
 "metadata": {
  "kernelspec": {
   "display_name": "dl_project",
   "language": "python",
   "name": "python3"
  },
  "language_info": {
   "codemirror_mode": {
    "name": "ipython",
    "version": 3
   },
   "file_extension": ".py",
   "mimetype": "text/x-python",
   "name": "python",
   "nbconvert_exporter": "python",
   "pygments_lexer": "ipython3",
   "version": "3.9.6"
  }
 },
 "nbformat": 4,
 "nbformat_minor": 2
}
